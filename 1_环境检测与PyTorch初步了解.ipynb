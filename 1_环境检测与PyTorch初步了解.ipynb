{
  "nbformat": 4,
  "nbformat_minor": 0,
  "metadata": {
    "colab": {
      "provenance": [],
      "authorship_tag": "ABX9TyM5DfmkHkLGJghTnwtYB/Pa",
      "include_colab_link": true
    },
    "kernelspec": {
      "name": "python3",
      "display_name": "Python 3"
    },
    "language_info": {
      "name": "python"
    },
    "accelerator": "GPU",
    "gpuClass": "standard"
  },
  "cells": [
    {
      "cell_type": "markdown",
      "metadata": {
        "id": "view-in-github",
        "colab_type": "text"
      },
      "source": [
        "<a href=\"https://colab.research.google.com/github/mika2048/GAN-Codes/blob/main/1_%E7%8E%AF%E5%A2%83%E6%A3%80%E6%B5%8B%E4%B8%8EPyTorch%E5%88%9D%E6%AD%A5%E4%BA%86%E8%A7%A3.ipynb\" target=\"_parent\"><img src=\"https://colab.research.google.com/assets/colab-badge.svg\" alt=\"Open In Colab\"/></a>"
      ]
    },
    {
      "cell_type": "markdown",
      "source": [
        "导入运行环境"
      ],
      "metadata": {
        "id": "DLtFpu-ufRij"
      }
    },
    {
      "cell_type": "code",
      "source": [
        "import torch"
      ],
      "metadata": {
        "id": "zhldxwQST8Yd"
      },
      "execution_count": 1,
      "outputs": []
    },
    {
      "cell_type": "markdown",
      "source": [
        "Pytorch张量的四则运算"
      ],
      "metadata": {
        "id": "G9SLZM_afXC0"
      }
    },
    {
      "cell_type": "code",
      "source": [
        "x=torch.tensor(3.5)\n",
        "print(f\"x={x}\")\n",
        "y=x+3\n",
        "print(f\"y={y}\")"
      ],
      "metadata": {
        "colab": {
          "base_uri": "https://localhost:8080/"
        },
        "id": "g83U0TbPfl5i",
        "outputId": "2352afc7-3208-4765-de65-7a89b259d1d7"
      },
      "execution_count": 2,
      "outputs": [
        {
          "output_type": "stream",
          "name": "stdout",
          "text": [
            "x=3.5\n",
            "y=6.5\n"
          ]
        }
      ]
    },
    {
      "cell_type": "markdown",
      "source": [
        "Pytorch张量的自动求导与梯度计算"
      ],
      "metadata": {
        "id": "bkay5DnCgC0C"
      }
    },
    {
      "cell_type": "code",
      "source": [
        "a=torch.tensor(3.5,requires_grad=True)\n",
        "b=(a-1)*(a-2)*(a-3)\n",
        "print(b.backward())\n",
        "print(a.grad)"
      ],
      "metadata": {
        "colab": {
          "base_uri": "https://localhost:8080/"
        },
        "id": "1QrKw8N1gKSf",
        "outputId": "a0bf84f4-1e93-4249-aa87-d8e104727e00"
      },
      "execution_count": 4,
      "outputs": [
        {
          "output_type": "stream",
          "name": "stdout",
          "text": [
            "None\n",
            "tensor(5.7500)\n"
          ]
        }
      ]
    }
  ]
}